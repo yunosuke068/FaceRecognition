{
 "cells": [
  {
   "cell_type": "code",
   "execution_count": 1,
   "metadata": {},
   "outputs": [],
   "source": [
    "from common_module import movie_func, my_func\n",
    "import insightface\n",
    "\n",
    "import numpy as np\n",
    "import cv2\n",
    "import os, glob, sys\n",
    "from tqdm import tqdm\n",
    "from tabulate import tabulate_formats"
   ]
  },
  {
   "cell_type": "code",
   "execution_count": 2,
   "metadata": {},
   "outputs": [
    {
     "name": "stdout",
     "output_type": "stream",
     "text": [
      "enviroment: development\n"
     ]
    }
   ],
   "source": [
    "import yaml\n",
    "# 環境の確認\n",
    "with open('../enviroment.yaml', 'r') as yml:\n",
    "    enviroment = yaml.safe_load(yml)['enviroment']\n",
    "print('enviroment:', enviroment)\n",
    "\n",
    "# 設定ファイルの読み込み\n",
    "with open('config.yaml', 'r') as yml:\n",
    "    config = yaml.safe_load(yml)[enviroment]"
   ]
  },
  {
   "cell_type": "code",
   "execution_count": 5,
   "metadata": {},
   "outputs": [
    {
     "data": {
      "text/plain": [
       "{'data_directory_path': 'E:\\\\FaceRecognitionData',\n",
       " 'movie_path': 'E:\\\\FaceRecognitionData\\\\movie',\n",
       " 'movie_manage_path': 'E:\\\\FaceRecognitionData\\\\MovieManage.db',\n",
       " 'face_db_path': 'E:\\\\FaceRecognitionData\\\\split_db',\n",
       " 'face_recognition_frame_rate': 10,\n",
       " 'bulk_insert_size': 5000,\n",
       " 'frame_scope': 10,\n",
       " 'similarity_threshold': 0.5}"
      ]
     },
     "execution_count": 5,
     "metadata": {},
     "output_type": "execute_result"
    }
   ],
   "source": [
    "config"
   ]
  },
  {
   "cell_type": "code",
   "execution_count": 8,
   "metadata": {},
   "outputs": [
    {
     "data": {
      "text/plain": [
       "'E:\\\\FaceRecognitionData\\\\ra-menPAR56611_TP_V4.jpg'"
      ]
     },
     "execution_count": 8,
     "metadata": {},
     "output_type": "execute_result"
    }
   ],
   "source": [
    "image_file"
   ]
  },
  {
   "cell_type": "code",
   "execution_count": 10,
   "metadata": {},
   "outputs": [
    {
     "name": "stdout",
     "output_type": "stream",
     "text": [
      "Applied providers: ['CPUExecutionProvider'], with options: {'CPUExecutionProvider': {}}\n",
      "find model: C:\\Users\\yunos/.insightface\\models\\buffalo_l\\1k3d68.onnx landmark_3d_68 ['None', 3, 192, 192] 0.0 1.0\n",
      "Applied providers: ['CPUExecutionProvider'], with options: {'CPUExecutionProvider': {}}\n",
      "find model: C:\\Users\\yunos/.insightface\\models\\buffalo_l\\2d106det.onnx landmark_2d_106 ['None', 3, 192, 192] 0.0 1.0\n",
      "Applied providers: ['CPUExecutionProvider'], with options: {'CPUExecutionProvider': {}}\n",
      "find model: C:\\Users\\yunos/.insightface\\models\\buffalo_l\\det_10g.onnx detection [1, 3, '?', '?'] 127.5 128.0\n",
      "Applied providers: ['CPUExecutionProvider'], with options: {'CPUExecutionProvider': {}}\n",
      "find model: C:\\Users\\yunos/.insightface\\models\\buffalo_l\\genderage.onnx genderage ['None', 3, 96, 96] 0.0 1.0\n",
      "Applied providers: ['CPUExecutionProvider'], with options: {'CPUExecutionProvider': {}}\n",
      "find model: C:\\Users\\yunos/.insightface\\models\\buffalo_l\\w600k_r50.onnx recognition ['None', 3, 112, 112] 127.5 127.5\n",
      "set det-size: (640, 640)\n"
     ]
    },
    {
     "name": "stderr",
     "output_type": "stream",
     "text": [
      "c:\\Users\\yunos\\workspace\\python\\FaceRecognition\\.venv\\lib\\site-packages\\insightface\\utils\\transform.py:68: FutureWarning: `rcond` parameter will change to the default of machine precision times ``max(M, N)`` where M and N are the input matrix dimensions.\n",
      "To use the future default and silence this warning we advise to pass `rcond=None`, to keep using the old, explicitly pass `rcond=-1`.\n",
      "  P = np.linalg.lstsq(X_homo, Y)[0].T # Affine matrix. 3 x 4\n"
     ]
    },
    {
     "name": "stdout",
     "output_type": "stream",
     "text": [
      "faces:3\n"
     ]
    },
    {
     "data": {
      "text/plain": [
       "True"
      ]
     },
     "execution_count": 10,
     "metadata": {},
     "output_type": "execute_result"
    }
   ],
   "source": [
    "import numpy as np\n",
    "import cv2\n",
    "from insightface.app import FaceAnalysis\n",
    " \n",
    "image_file = os.path.join(config['data_directory_path'],\"basic_data/ra-menPAR56611_TP_V4.jpg\")\n",
    "img = cv2.imread(image_file)\n",
    " \n",
    "app = FaceAnalysis()\n",
    "app.prepare(ctx_id=0, det_size=(640, 640))\n",
    " \n",
    "faces = app.get(np.asarray(img))\n",
    "print(\"faces:\" + str(len(faces)))\n",
    " \n",
    "rimg = app.draw_on(img, faces)\n",
    "cv2.imwrite(\"./output.jpg\", rimg)"
   ]
  }
 ],
 "metadata": {
  "kernelspec": {
   "display_name": ".venv",
   "language": "python",
   "name": "python3"
  },
  "language_info": {
   "codemirror_mode": {
    "name": "ipython",
    "version": 3
   },
   "file_extension": ".py",
   "mimetype": "text/x-python",
   "name": "python",
   "nbconvert_exporter": "python",
   "pygments_lexer": "ipython3",
   "version": "3.10.4 (tags/v3.10.4:9d38120, Mar 23 2022, 23:13:41) [MSC v.1929 64 bit (AMD64)]"
  },
  "orig_nbformat": 4,
  "vscode": {
   "interpreter": {
    "hash": "512f8919e5939af0d617f356998a22c8b4cdd4671e3a10108d40a9d5555b3e50"
   }
  }
 },
 "nbformat": 4,
 "nbformat_minor": 2
}
