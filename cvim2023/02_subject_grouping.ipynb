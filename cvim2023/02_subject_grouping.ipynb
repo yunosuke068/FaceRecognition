{
 "cells": [
  {
   "cell_type": "code",
   "execution_count": 1,
   "metadata": {},
   "outputs": [],
   "source": [
    "# FacesテーブルとSubjectsテーブルの中間テーブルの生成\n",
    "\n",
    "from common_module import movie_func, my_func\n",
    "import numpy as np\n",
    "import cv2\n",
    "import os, glob, sys, yaml\n",
    "from tqdm import tqdm\n",
    "import time\n",
    "from tabulate import tabulate\n",
    "\n",
    "from face_recognition_module import sql_func\n",
    "from operator import itemgetter\n"
   ]
  },
  {
   "cell_type": "code",
   "execution_count": 2,
   "metadata": {},
   "outputs": [
    {
     "name": "stdout",
     "output_type": "stream",
     "text": [
      "enviroment: development\n",
      "{'movie_path': 'C:\\\\Users\\\\yunos\\\\workspace\\\\python\\\\FaceRecognition\\\\db\\\\movie', 'movie_manage_path': 'C:\\\\Users\\\\yunos\\\\workspace\\\\python\\\\FaceRecognition\\\\db\\\\MovieManage.db', 'face_db_path': 'C:\\\\Users\\\\yunos\\\\workspace\\\\python\\\\FaceRecognition\\\\db\\\\split_db', 'face_recognition_frame_rate': 10}\n"
     ]
    }
   ],
   "source": [
    "# ========================\n",
    "# 設定ファイルの読み込み\n",
    "# ========================\n",
    "\n",
    "# 環境の確認\n",
    "with open('../enviroment.yaml', 'r') as yml:\n",
    "    enviroment = yaml.safe_load(yml)['enviroment']\n",
    "print('enviroment:', enviroment)\n",
    "\n",
    "# 設定ファイルの読み込み\n",
    "with open('config.yaml', 'r') as yml:\n",
    "    config = yaml.safe_load(yml)[enviroment]\n",
    "print(config)"
   ]
  },
  {
   "cell_type": "code",
   "execution_count": 3,
   "metadata": {},
   "outputs": [
    {
     "name": "stdout",
     "output_type": "stream",
     "text": [
      "  id  name         path                          fps    frame    Fmain    Fsubject    Fbond    Fsplit  created_at           updated_at\n",
      "----  -----------  ------------------------  -------  -------  -------  ----------  -------  --------  -------------------  -------------------\n",
      "   1  wM73pe49JVg  db/movie\\wM73pe49JVg.mp4  29.997    157309        1           1        1         1  2022-10-13 11:50:58  2022-10-13 11:50:58\n",
      "   2  0wF6uUVT0ok  db/movie\\0wF6uUVT0ok.mp4  29.9976   108324        1           1        1         1  2022-10-13 11:50:58  2022-10-13 11:50:58\n",
      "   3  61FkT-f9cgU  db/movie\\61FkT-f9cgU.mp4  30        108136        1           1        1         1  2022-10-13 11:50:58  2022-10-13 11:50:58\n",
      "   4  -CBqH_bjms4  db/movie\\-CBqH_bjms4.mp4  29.9962   189157        1           1        1         9  2022-10-24 19:40:43  2022-10-24 19:40:43\n",
      "   5  -WRT0ZhBwGk  db/movie\\-WRT0ZhBwGk.mp4  30.0048   206075        1           1        1         1  2022-10-24 19:40:43  2022-10-24 19:40:43\n",
      "   6  1AVBSYT3PCc  db/movie\\1AVBSYT3PCc.mp4  30       1006790        1           1        1         9  2022-10-24 19:40:43  2022-10-24 19:40:43\n",
      "   7  2ZrKkInBDro  db/movie\\2ZrKkInBDro.mp4  25        236669        1           1        1         9  2022-10-24 19:40:43  2022-10-24 19:40:43\n",
      "   8  53yPfrqbpkE  db/movie\\53yPfrqbpkE.mp4  30        187144        1           1        1         9  2022-10-24 19:40:43  2022-10-24 19:40:43\n",
      "   9  5E9SfLc0SkM  db/movie\\5E9SfLc0SkM.mp4  25         51260        1           1        1         1  2022-10-24 19:40:43  2022-10-24 19:40:43\n",
      "  10  627OBH2cUgM  db/movie\\627OBH2cUgM.mp4  29.995    129003        1           1        1         1  2022-10-24 19:40:43  2022-10-24 19:40:43\n",
      "  11  6fgVfqrRGpQ  db/movie\\6fgVfqrRGpQ.mp4  29.9907   174390        1           1        1         9  2022-10-24 19:40:43  2022-10-24 19:40:43\n",
      "  12  6M_Q56dIJ1s  db/movie\\6M_Q56dIJ1s.mp4  29.9914   152626        1           1        1         9  2022-10-24 19:40:44  2022-10-24 19:40:44\n",
      "  13  7eio0rPXuRs  db/movie\\7eio0rPXuRs.mp4  30        142740        1           1        1         9  2022-10-24 19:40:44  2022-10-24 19:40:44\n",
      "  14  7JwrlOWYIWQ  db/movie\\7JwrlOWYIWQ.mp4  30.0048   203353        1           1        1         9  2022-10-24 19:40:44  2022-10-24 19:40:44\n",
      "  15  7RnAMjrjdWs  db/movie\\7RnAMjrjdWs.mp4  25         66093        1           1        1         1  2022-10-24 19:40:44  2022-10-24 19:40:44\n",
      "  16  9uwBlkHwmMY  db/movie\\9uwBlkHwmMY.mp4  30         94451        1           1        1         1  2022-10-24 19:40:44  2022-10-24 19:40:44\n",
      "  17  aBWfEqaewVQ  db/movie\\aBWfEqaewVQ.mp4  29.9996    25566        1           1        1         9  2022-10-24 19:40:44  2022-10-24 19:40:44\n",
      "  18  AtgLjlCiVVY  db/movie\\AtgLjlCiVVY.mp4  30        156672        1           1        1         9  2022-10-24 19:40:44  2022-10-24 19:40:44\n",
      "  19  bPUdUPTPen4  db/movie\\bPUdUPTPen4.mp4  30        177589        1           1        1         1  2022-10-24 19:40:44  2022-10-24 19:40:44\n",
      "  20  bXbim5JALeY  db/movie\\bXbim5JALeY.mp4  30        102120        1           1        1         1  2022-10-24 19:40:44  2022-10-24 19:40:44\n",
      "  21  CQ4rV3fZIVQ  db/movie\\CQ4rV3fZIVQ.mp4  30        202195        1           1        1         9  2022-10-24 19:40:44  2022-10-24 19:40:44\n",
      "  22  FPfw-hY6SXQ  db/movie\\FPfw-hY6SXQ.mp4  30         11046        1           1        1         9  2022-10-24 19:40:44  2022-10-24 19:40:44\n",
      "  23  GwBM23UbGMY  db/movie\\GwBM23UbGMY.mp4  30         81002        1           1        1         1  2022-10-24 19:40:44  2022-10-24 19:40:44\n",
      "  24  JOzCTcW5zSc  db/movie\\JOzCTcW5zSc.mp4  30        122350        1           1        1         9  2022-10-24 19:40:44  2022-10-24 19:40:44\n",
      "  25  jzZftQTBA54  db/movie\\jzZftQTBA54.mp4  29.9959   164553        1           9        9         9  2022-10-24 19:40:44  2022-10-24 19:40:44\n",
      "  26  N-VOtkQXaeM  db/movie\\N-VOtkQXaeM.mp4  30         98183        9           9        9         9  2022-10-24 19:40:44  2022-10-24 19:40:44\n",
      "  27  NxJl3meFXsQ  db/movie\\NxJl3meFXsQ.mp4  29.9976   215908        9           9        9         9  2022-10-24 19:40:44  2022-10-24 19:40:44\n",
      "  28  OaTd0XWJkEs  db/movie\\OaTd0XWJkEs.mp4  29.9977   187672        3           9        9         9  2022-10-24 19:40:44  2022-10-24 19:40:44\n",
      "  29  OsBEW_dpPdk  db/movie\\OsBEW_dpPdk.mp4  30        112501        9           9        9         9  2022-10-24 19:40:44  2022-10-24 19:40:44\n",
      "  30  pcsbtQcYKBI  db/movie\\pcsbtQcYKBI.mp4  30        248548        9           9        9         9  2022-10-24 19:40:44  2022-10-24 19:40:44\n",
      "  31  PDo5wG7gJSs  db/movie\\PDo5wG7gJSs.mp4  30.0095   163895        3           9        9         9  2022-10-24 19:40:44  2022-10-24 19:40:44\n",
      "  32  QSi-7fF79u8  db/movie\\QSi-7fF79u8.mp4  30.0094   215222        3           9        9         9  2022-10-24 19:40:44  2022-10-24 19:40:44\n",
      "  33  RbvlZ4odeX8  db/movie\\RbvlZ4odeX8.mp4  29.9989   172588        9           9        9         9  2022-10-24 19:40:44  2022-10-24 19:40:44\n",
      "  34  rDZ4UyVW4Mk  db/movie\\rDZ4UyVW4Mk.mp4  30        115200        9           9        9         9  2022-10-24 19:40:44  2022-10-24 19:40:44\n",
      "  35  SknpPD0HteU  db/movie\\SknpPD0HteU.mp4  29.9999   135311        9           9        9         9  2022-10-24 19:40:44  2022-10-24 19:40:44\n",
      "  36  srgyDFhNeQQ  db/movie\\srgyDFhNeQQ.mp4  30        188399        9           9        9         9  2022-10-24 19:40:45  2022-10-24 19:40:45\n",
      "  37  t9zCBPmX8Ew  db/movie\\t9zCBPmX8Ew.mp4  30        144760        9           9        9         9  2022-10-24 19:40:45  2022-10-24 19:40:45\n",
      "  38  UCh_oziaMAQ  db/movie\\UCh_oziaMAQ.mp4  30        161820        9           9        9         9  2022-10-24 19:40:45  2022-10-24 19:40:45\n",
      "  39  ugldzxJPmEo  db/movie\\ugldzxJPmEo.mp4  30         69009        9           9        9         9  2022-10-24 19:40:45  2022-10-24 19:40:45\n",
      "  40  usU_sgt83sQ  db/movie\\usU_sgt83sQ.mp4  30        174750        9           9        9         9  2022-10-24 19:40:45  2022-10-24 19:40:45\n",
      "  41  wQ1rP-iKGV4  db/movie\\wQ1rP-iKGV4.mp4  29.9968   176232        3           9        9         9  2022-10-24 19:40:45  2022-10-24 19:40:45\n",
      "  42  XfH2U57UUqM  db/movie\\XfH2U57UUqM.mp4  30.013    172034        3           9        9         9  2022-10-24 19:40:45  2022-10-24 19:40:45\n",
      "  43  Xl8dRdouzbk  db/movie\\Xl8dRdouzbk.mp4  30         33898        9           9        9         9  2022-10-24 19:40:45  2022-10-24 19:40:45\n",
      "  44  YF7b03Egg-Y  db/movie\\YF7b03Egg-Y.mp4  30.0042   229142        9           9        9         9  2022-10-24 19:40:45  2022-10-24 19:40:45\n",
      "  45  YfYBCnc86Ak  db/movie\\YfYBCnc86Ak.mp4  30        480390        3           9        9         9  2022-10-24 19:40:45  2022-10-24 19:40:45\n",
      "  46  YLq6NBMJPxc  db/movie\\YLq6NBMJPxc.mp4  30         92425        9           9        9         9  2022-10-24 19:40:45  2022-10-24 19:40:45\n",
      "  47  z2FMgxGvVCA  db/movie\\z2FMgxGvVCA.mp4  29.9974   168475        3           9        9         9  2022-10-24 19:40:45  2022-10-24 19:40:45\n",
      "  48  ZylS9-eZnu4  db/movie\\ZylS9-eZnu4.mp4  30.0058   195360        3           9        9         9  2022-10-24 19:40:45  2022-10-24 19:40:45\n",
      "  49  _xlXRxsE8_0  db/movie\\_xlXRxsE8_0.mp4  29.9948   190858        9           9        9         9  2022-10-24 19:40:46  2022-10-24 19:40:46\n",
      "  50  1jZFjy2L7m8  db/movie\\1jZFjy2L7m8.mp4  25        103749        9           9        9         9  2022-11-06 08:58:06  2022-11-06 08:58:06\n",
      "  51  5DSN14BZTSA  db/movie\\5DSN14BZTSA.mp4  25         43032        9           9        9         9  2022-11-06 08:58:06  2022-11-06 08:58:06\n",
      "  52  60jEQcJUgpI  db/movie\\60jEQcJUgpI.mp4  30        243983        9           9        9         9  2022-11-06 08:58:06  2022-11-06 08:58:06\n",
      "  53  BOyLRzbd4ak  db/movie\\BOyLRzbd4ak.mp4  30.0061   293884        3           9        9         9  2022-11-06 08:58:06  2022-11-06 08:58:06\n",
      "  54  Cp9LCoEn04U  db/movie\\Cp9LCoEn04U.mp4  30        214776        9           9        9         9  2022-11-06 08:58:06  2022-11-06 08:58:06\n",
      "  55  DkRTafL7TAI  db/movie\\DkRTafL7TAI.mp4  25         77879        3           9        9         9  2022-11-06 08:58:06  2022-11-06 08:58:06\n",
      "  57  FVqLLEsRpiQ  db/movie\\FVqLLEsRpiQ.mp4  30        100312        9           9        9         9  2022-11-06 08:58:06  2022-11-06 08:58:06\n",
      "  58  GmQHCnRSHb8  db/movie\\GmQHCnRSHb8.mp4  30        159330        9           9        9         9  2022-11-06 08:58:06  2022-11-06 08:58:06\n",
      "  60  JLgGWBvH_Sk  db/movie\\JLgGWBvH_Sk.mp4  25        107675        9           9        9         9  2022-11-06 08:58:06  2022-11-06 08:58:06\n",
      "  61  K6MBccDuM9c  db/movie\\K6MBccDuM9c.mp4  30         62038        9           9        9         9  2022-11-06 08:58:06  2022-11-06 08:58:06\n",
      "  63  KB7Vjvo4-UY  db/movie\\KB7Vjvo4-UY.mp4  30.0071   199203        3           9        9         9  2022-11-06 08:58:06  2022-11-06 08:58:06\n",
      "  64  Kh7JZpXATVw  db/movie\\Kh7JZpXATVw.mp4  30        283050        9           9        9         9  2022-11-06 08:58:06  2022-11-06 08:58:06\n",
      "  70  ONvKyeTCBEY  db/movie\\ONvKyeTCBEY.mp4  30.0053   148752        9           9        9         9  2022-11-06 08:58:06  2022-11-06 08:58:06\n",
      "  67  Of39LKmX6iM  db/movie\\Of39LKmX6iM.mp4  29.9822    22269        9           9        9         9  2022-11-06 08:58:06  2022-11-06 08:58:06\n",
      "  72  POk3F3lGHCQ  db/movie\\POk3F3lGHCQ.mp4  29.993    229464        3           9        9         9  2022-11-06 08:58:06  2022-11-06 08:58:06\n",
      "  73  QNzko2V6tVE  db/movie\\QNzko2V6tVE.mp4  30        106658        9           9        9         9  2022-11-06 08:58:06  2022-11-06 08:58:06\n",
      "  74  SX0VPOceLLY  db/movie\\SX0VPOceLLY.mp4  25         86131        9           9        9         9  2022-11-06 08:58:06  2022-11-06 08:58:06\n",
      "  76  Tnkx287RGkg  db/movie\\Tnkx287RGkg.mp4  30.0071   224345        3           9        9         9  2022-11-06 08:58:06  2022-11-06 08:58:06\n",
      "  78  Xl4NxqmuyiU  db/movie\\Xl4NxqmuyiU.mp4  29.9958    81522        9           9        9         9  2022-11-06 08:58:06  2022-11-06 08:58:06\n",
      "  56  eeg3_W_Ui30  db/movie\\eeg3_W_Ui30.mp4  29.9952    51449        9           9        9         9  2022-11-06 08:58:06  2022-11-06 08:58:06\n",
      "  59  iYG_jXS9XaU  db/movie\\iYG_jXS9XaU.mp4  30.0051   260017        3           9        9         9  2022-11-06 08:58:06  2022-11-06 08:58:06\n",
      "  62  k8K6wQLxooU  db/movie\\k8K6wQLxooU.mp4  25         64072        9           9        9         9  2022-11-06 08:58:06  2022-11-06 08:58:06\n",
      "  65  ll_2akftrZE  db/movie\\ll_2akftrZE.mp4  30        184382        9           9        9         9  2022-11-06 08:58:06  2022-11-06 08:58:06\n",
      "  66  mgWgMnNcjXw  db/movie\\mgWgMnNcjXw.mp4  30         54457        9           9        9         9  2022-11-06 08:58:07  2022-11-06 08:58:07\n",
      "  69  oMcqz_O_dPU  db/movie\\oMcqz_O_dPU.mp4  23.976    143101        9           9        9         9  2022-11-06 08:58:07  2022-11-06 08:58:07\n",
      "  68  oioA28CUTzs  db/movie\\oioA28CUTzs.mp4  30        101190        9           9        9         9  2022-11-06 08:58:07  2022-11-06 08:58:07\n",
      "  71  po6VGyp5oBE  db/movie\\po6VGyp5oBE.mp4  29.9994    40023        9           9        9         9  2022-11-06 08:58:07  2022-11-06 08:58:07\n",
      "  75  sYCOqxkO598  db/movie\\sYCOqxkO598.mp4  30.0068   244896        3           9        9         9  2022-11-06 08:58:07  2022-11-06 08:58:07\n",
      "  77  vcS9aVaMfl4  db/movie\\vcS9aVaMfl4.mp4  30        158484        9           9        9         9  2022-11-06 08:58:07  2022-11-06 08:58:07\n",
      "  79  ygkg5-7kaxY  db/movie\\ygkg5-7kaxY.mp4  30.0085   293236        9           9        9         9  2022-11-06 08:58:07  2022-11-06 08:58:07\n"
     ]
    }
   ],
   "source": [
    "# =========================================\n",
    "# MovieManageDBのMoviesとCompletesの状態確認\n",
    "# =========================================\n",
    "\n",
    "# MovieMangeを参照するsql\n",
    "movie_manage_sql = sql_func.FaceDB(config['movie_manage_path'])\n",
    "\n",
    "# MovieManageのMoviesとCompletesの状態確認\n",
    "records = movie_manage_sql.cursor.execute('SELECT m.id, m.name, m.path, m.fps, m.frame, c.flag_main, c.flag_subject, c.flag_bond, c.flag_split, c.created_at, c.updated_at FROM Movies m INNER JOIN Completes c ON m.id = c.movie_id').fetchall()\n",
    "print(tabulate(records, headers=['id','name','path','fps','frame','Fmain','Fsubject','Fbond','Fsplit','created_at','updated_at']))\n",
    "del records"
   ]
  },
  {
   "cell_type": "code",
   "execution_count": 4,
   "metadata": {},
   "outputs": [],
   "source": [
    "# =========================================================\n",
    "# 人物のグループ化処理（連続して顔認識が行われている人物の結合）\n",
    "# =========================================================\n",
    "\n",
    "# MovieMangeを参照するsql\n",
    "movie_manage_sql = sql_func.FaceDB(config['movie_manage_path']) \n",
    "\n",
    "# MoviesとCompletesをinner joinして取得\n",
    "sql_str = 'SELECT m.id, m.name, m.path, m.fps, m.frame, c.flag_main, c.flag_subject, c.flag_bond, c.flag_split FROM Movies m INNER JOIN Completes c ON m.id = c.movie_id'\n",
    "movie_complete_records =  movie_manage_sql.cursor.execute(sql_str).fetchall() \n",
    "movie_complete_records = [{'id':r[0], 'name':r[1], 'path':r[2], 'fps':r[3], 'frame':r[4], 'flag_main':r[5], 'flag_subject':r[6], 'flag_bond':r[7], 'flag_split':r[8]} for r in movie_complete_records]"
   ]
  },
  {
   "cell_type": "code",
   "execution_count": 5,
   "metadata": {},
   "outputs": [
    {
     "name": "stdout",
     "output_type": "stream",
     "text": [
      "25 jzZftQTBA54 flag_main: 1 flag_subject: 9\n",
      "1\n"
     ]
    }
   ],
   "source": [
    "for mcr in movie_complete_records:\n",
    "    # 人物のグループ化処理\n",
    "    if (mcr['flag_main']==1)&(mcr['flag_subject']==9):\n",
    "        # movie_idを取得\n",
    "        movie_id = mcr['id']\n",
    "\n",
    "        print(movie_id, mcr['name'], f\"flag_main: {mcr['flag_main']}\", f\"flag_subject: {mcr['flag_subject']}\")\n",
    "\n",
    "        # FaceDBを参照するsql\n",
    "        face_db_sql = sql_func.FaceDB(f\"{config['face_db_path']}/FaceDB{mcr['id']}.db\")\n",
    "\n",
    "        # FaceDBレコードのCompletesテーブルを更新\n",
    "        movie_manage_cr = movie_manage_sql.GetRecords('Completes',['*'],{'movie_id':mcr['id']},option={'sql_str':'LIMIT 1'})[0]\n",
    "        face_db_sql.UpdateRecords('Completes', {'movie_id':mcr['id']}, movie_manage_cr)\n",
    "\n",
    "        # Facesテーブルのframeカラムの最大値を取得（前回最後に読み込んフレーム値を取得）\n",
    "        last_frame = face_db_sql.GetRecords('Faces',['frame'],option={'sql_str':'ORDER BY FRAME DESC LIMIT 1'})[0]['frame']\n",
    "\n",
    "        # FaceSubjectsテーブルのface_idカラムの最大値を取得（前回最後に読み込まれたFacesのidを取得）\n",
    "        last_face_id = face_db_sql.GetRecords('FaceSubjects',['face_id'],option={'sql_str':'ORDER BY face_id LIMIT 1'})\n",
    "        \n",
    "        # FaceSubjectsテーブルのface_idカラムの最大値の存在チェック\n",
    "        if len(last_face_id) > 0: # face_idカラムにレコードが存在する\n",
    "            last_face_id = last_face_id[-1]['face_id']\n",
    "            frame_start = face_db_sql.GetRecords('Faces',['frame'],{'id':last_face_id},option={'sql_str':'LIMIT 1'})[0]['frame'] # 読み込み開始フレーム\n",
    "        else: # face_idカラムにレコードが存在しない\n",
    "            frame_start = 1 # 読み込み開始フレーム\n",
    "        print(frame_start)"
   ]
  },
  {
   "cell_type": "code",
   "execution_count": 6,
   "metadata": {},
   "outputs": [],
   "source": [
    "\n",
    "frs_all = face_db_sql.GetRecords('Faces',['id','movie_id','frame','embedding'],{'movie_id':movie_id})"
   ]
  },
  {
   "cell_type": "code",
   "execution_count": 52,
   "metadata": {},
   "outputs": [
    {
     "name": "stdout",
     "output_type": "stream",
     "text": [
      "frame_start 1 last_frame 159511\n"
     ]
    },
    {
     "name": "stderr",
     "output_type": "stream",
     "text": [
      "movie_id:25:  42% 6699/15952 [23:28<32:25,  4.76it/s]  \n"
     ]
    },
    {
     "ename": "KeyboardInterrupt",
     "evalue": "",
     "output_type": "error",
     "traceback": [
      "\u001b[1;31m---------------------------------------------------------------------------\u001b[0m",
      "\u001b[1;31mKeyboardInterrupt\u001b[0m                         Traceback (most recent call last)",
      "Cell \u001b[1;32mIn [52], line 9\u001b[0m\n\u001b[0;32m      6\u001b[0m \u001b[39mfor\u001b[39;00m frame \u001b[39min\u001b[39;00m progressbar:\n\u001b[0;32m      7\u001b[0m     frs \u001b[39m=\u001b[39m [fr \u001b[39mfor\u001b[39;00m fr \u001b[39min\u001b[39;00m frs_all \u001b[39mif\u001b[39;00m fr[\u001b[39m'\u001b[39m\u001b[39mframe\u001b[39m\u001b[39m'\u001b[39m] \u001b[39m==\u001b[39m frame]\n\u001b[1;32m----> 9\u001b[0m     frs_prev \u001b[39m=\u001b[39m [fr \u001b[39mfor\u001b[39;00m fr \u001b[39min\u001b[39;00m frs_all \u001b[39mif\u001b[39;00m fr[\u001b[39m'\u001b[39m\u001b[39mframe\u001b[39m\u001b[39m'\u001b[39m] \u001b[39m==\u001b[39m frame\u001b[39m-\u001b[39mconfig[\u001b[39m'\u001b[39m\u001b[39mface_recognition_frame_rate\u001b[39m\u001b[39m'\u001b[39m]]\n\u001b[0;32m     11\u001b[0m     \u001b[39m# ひとつ前の顔認識処理実行frameのFaces Recordsの存在チェック\u001b[39;00m\n\u001b[0;32m     12\u001b[0m     \u001b[39mif\u001b[39;00m (\u001b[39mlen\u001b[39m(frs_prev)\u001b[39m>\u001b[39m\u001b[39m0\u001b[39m)\u001b[39m&\u001b[39m(\u001b[39mlen\u001b[39m(frs)\u001b[39m>\u001b[39m\u001b[39m0\u001b[39m): \u001b[39m# 存在する\u001b[39;00m\n\u001b[0;32m     13\u001b[0m         \u001b[39m# 類似度の高い組み合わせの生成\u001b[39;00m\n",
      "Cell \u001b[1;32mIn [52], line 9\u001b[0m, in \u001b[0;36m<listcomp>\u001b[1;34m(.0)\u001b[0m\n\u001b[0;32m      6\u001b[0m \u001b[39mfor\u001b[39;00m frame \u001b[39min\u001b[39;00m progressbar:\n\u001b[0;32m      7\u001b[0m     frs \u001b[39m=\u001b[39m [fr \u001b[39mfor\u001b[39;00m fr \u001b[39min\u001b[39;00m frs_all \u001b[39mif\u001b[39;00m fr[\u001b[39m'\u001b[39m\u001b[39mframe\u001b[39m\u001b[39m'\u001b[39m] \u001b[39m==\u001b[39m frame]\n\u001b[1;32m----> 9\u001b[0m     frs_prev \u001b[39m=\u001b[39m [fr \u001b[39mfor\u001b[39;00m fr \u001b[39min\u001b[39;00m frs_all \u001b[39mif\u001b[39;00m fr[\u001b[39m'\u001b[39;49m\u001b[39mframe\u001b[39;49m\u001b[39m'\u001b[39;49m] \u001b[39m==\u001b[39;49m frame\u001b[39m-\u001b[39;49mconfig[\u001b[39m'\u001b[39;49m\u001b[39mface_recognition_frame_rate\u001b[39;49m\u001b[39m'\u001b[39;49m]]\n\u001b[0;32m     11\u001b[0m     \u001b[39m# ひとつ前の顔認識処理実行frameのFaces Recordsの存在チェック\u001b[39;00m\n\u001b[0;32m     12\u001b[0m     \u001b[39mif\u001b[39;00m (\u001b[39mlen\u001b[39m(frs_prev)\u001b[39m>\u001b[39m\u001b[39m0\u001b[39m)\u001b[39m&\u001b[39m(\u001b[39mlen\u001b[39m(frs)\u001b[39m>\u001b[39m\u001b[39m0\u001b[39m): \u001b[39m# 存在する\u001b[39;00m\n\u001b[0;32m     13\u001b[0m         \u001b[39m# 類似度の高い組み合わせの生成\u001b[39;00m\n",
      "\u001b[1;31mKeyboardInterrupt\u001b[0m: "
     ]
    }
   ],
   "source": [
    "print('frame_start',frame_start,'last_frame',last_frame)\n",
    "progressbar = tqdm(np.arange(frame_start,last_frame+1,config['face_recognition_frame_rate']),ncols= 0)\n",
    "progressbar.set_description(f\"movie_id:{movie_id}\")\n",
    "\n",
    "\n",
    "for frame in progressbar:\n",
    "    frs = [fr for fr in frs_all if fr['frame'] == frame]\n",
    "\n",
    "    frs_prev = [fr for fr in frs_all if fr['frame'] == frame-config['face_recognition_frame_rate']]\n",
    "\n",
    "    # ひとつ前の顔認識処理実行frameのFaces Recordsの存在チェック\n",
    "    if (len(frs_prev)>0)&(len(frs)>0): # 存在する\n",
    "        # 類似度の高い組み合わせの生成\n",
    "        face_combination = my_func.RecordsCombination(frs_prev, frs)\n",
    "        \n",
    "        # Subjectsレコード・FaceSubjectsレコードの追加処理\n",
    "        for i in range(len(face_combination[0])):\n",
    "            if face_combination[1][i] == 0: # 対応する人物idが存在しない\n",
    "                face_id = frs[i]['id']\n",
    "                \n",
    "                # SubjectsレコードをFaceDBに追加\n",
    "                face_db_sql.InsertSubjects(movie_id, face_id)\n",
    "\n",
    "                # face_idが一致するSubjectsレコードのidを取得\n",
    "                subject_id = face_db_sql.GetRecords('Subjects',['id'],{'movie_id':movie_id,'face_id':face_id},option={'sql_str':'LIMIT 1'})[0]['id']\n",
    "\n",
    "                # FaceSubjectsレコードをFaceDBに追加\n",
    "                face_db_sql.InsertRecords('FaceSubjects',{'face_id':face_id, 'subject_id':subject_id})\n",
    "\n",
    "            else: # 対応する人物idが存在する\n",
    "                # current frameのface_idを取得\n",
    "                cur_face_id = face_combination[0][i]\n",
    "\n",
    "                # マッチするひとつ前のface_idを取得\n",
    "                pre_face_id = face_combination[1][i]\n",
    "\n",
    "                # pre_face_idに一致するsubject_idを取得\n",
    "                subject_id = face_db_sql.GetRecords('FaceSubjects',['subject_id'],{'face_id':pre_face_id},option={'sql_str':'LIMIT 1'})[0]['subject_id']\n",
    "\n",
    "                # FaceSubjectsのupdate\n",
    "                face_db_sql.UpdateRecords('FaceSubjects',{'face_id':cur_face_id},{'face_id':cur_face_id,'subject_id':subject_id})\n",
    "    \n",
    "    elif (len(frs_prev)==0)&(len(frs)>0): # 存在しない\n",
    "        for fr in frs:\n",
    "            face_id = fr['id']\n",
    "\n",
    "            # Subjectsの重複追加を防ぐ\n",
    "            if len(face_db_sql.GetRecords('Subjects',['id'],{'movie_id':movie_id,'face_id':face_id}))==0:\n",
    "                # SubjectsレコードをFaceDBに追加\n",
    "                face_db_sql.InsertSubjects(movie_id, face_id)\n",
    "\n",
    "                # face_idに一致するsubject_idを取得する\n",
    "                subject_id = face_db_sql.GetRecords('Subjects',['id'],{'movie_id':movie_id,'face_id':face_id}, option={'sql_str':'LIMIT 1'})[0]['id']\n",
    "\n",
    "                # FaceSubjectsレコードをFaceDBに追加\n",
    "                face_db_sql.InsertRecords('FaceSubjects',{'face_id':face_id,'subject_id':subject_id})\n",
    "\n",
    "# Completesのfalag_subjectを更新\n",
    "face_db_sql.UpdateRecords('Completes',{'movie_id':movie_id},{'flag_subject':1})\n"
   ]
  },
  {
   "cell_type": "code",
   "execution_count": 10,
   "metadata": {},
   "outputs": [
    {
     "name": "stdout",
     "output_type": "stream",
     "text": [
      "frame_start 1 last_frame 159511\n"
     ]
    },
    {
     "name": "stderr",
     "output_type": "stream",
     "text": [
      "movie_id:25:   1% 231/15952 [00:09<11:17, 23.21it/s]\n"
     ]
    }
   ],
   "source": [
    "print('frame_start',frame_start,'last_frame',last_frame)\n",
    "\n",
    "face_db_sql.cursor.execute('DELETE FROM FaceSubjects')\n",
    "face_db_sql.cursor.execute('DELETE FROM Subjects')\n",
    "\n",
    "\n",
    "progressbar = tqdm(np.arange(frame_start,last_frame+1,config['face_recognition_frame_rate']),ncols= 0)\n",
    "progressbar.set_description(f\"movie_id:{movie_id}\")\n",
    "\n",
    "subject_arr = []\n",
    "face_subject_arr = []\n",
    "\n",
    "for frame in progressbar:\n",
    "    frs = [fr for fr in frs_all if fr['frame'] == frame]\n",
    "\n",
    "    frs_prev = [fr for fr in frs_all if fr['frame'] == frame-config['face_recognition_frame_rate']]\n",
    "\n",
    "    # ひとつ前の顔認識処理実行frameのFaces Recordsの存在チェック\n",
    "    if (len(frs_prev)>0)&(len(frs)>0): # 存在する\n",
    "        # 類似度の高い組み合わせの生成\n",
    "        face_combination = my_func.RecordsCombination(frs_prev, frs)\n",
    "        \n",
    "        # Subjectsレコード・FaceSubjectsレコードの追加処理\n",
    "        for i in range(len(face_combination[0])):\n",
    "            if face_combination[1][i] == 0: # 対応する人物idが存在しない\n",
    "                face_id = frs[i]['id']\n",
    "                \n",
    "                # SubjectsレコードをFaceDBに追加\n",
    "                subject_arr.append({'movie_id':movie_id, 'id':len(subject_arr)+1, 'order_number':len(subject_arr)+1, 'face_id':face_id})\n",
    "\n",
    "                # face_idに一致するsubject_idを取得する\n",
    "                subject_id = [r['id'] for r in subject_arr if r['face_id'] == face_id][0]\n",
    "\n",
    "                # FaceSubjectsレコードをFaceDBに追加\n",
    "                face_subject_arr.append({'id':len(face_subject_arr)+1, 'face_id':face_id,'subject_id':subject_id})\n",
    "\n",
    "            else: # 対応する人物idが存在する\n",
    "                # current frameのface_idを取得\n",
    "                cur_face_id = face_combination[0][i]\n",
    "\n",
    "                # マッチするひとつ前のface_idを取得\n",
    "                pre_face_id = face_combination[1][i]\n",
    "\n",
    "                # pre_face_idに一致するsubject_idを取得\n",
    "                subject_id = [r['subject_id'] for r in face_subject_arr if r['face_id'] == pre_face_id][0]\n",
    "                \n",
    "                # FaceSubjectsレコードをFaceDBに追加\n",
    "                face_subject_arr.append({'id':len(face_subject_arr)+1, 'face_id':cur_face_id,'subject_id':subject_id})\n",
    "    \n",
    "    elif (len(frs_prev)==0)&(len(frs)>0): # 存在しない\n",
    "        for fr in frs:\n",
    "            face_id = fr['id']\n",
    "\n",
    "            # Subjectsの重複追加を防ぐ\n",
    "            if len(subject_arr)==0:\n",
    "                # SubjectsレコードをFaceDBに追加\n",
    "                # face_db_sql.InsertSubjects(movie_id, face_id)\n",
    "                subject_arr.append({'movie_id':movie_id, 'id':len(subject_arr)+1, 'order_number':len(subject_arr)+1, 'face_id':face_id})\n",
    "\n",
    "                # face_idに一致するsubject_idを取得する\n",
    "                subject_id = [r['id'] for r in subject_arr if r['face_id'] == face_id][0]\n",
    "\n",
    "                # FaceSubjectsレコードをFaceDBに追加\n",
    "                # face_db_sql.InsertRecords('FaceSubjects',{'face_id':face_id,'subject_id':subject_id})\n",
    "                face_subject_arr.append({'id':len(face_subject_arr)+1, 'face_id':face_id,'subject_id':subject_id})\n",
    "    if len(face_subject_arr) > 5000:\n",
    "        face_db_sql.BulkInsertRecords('FaceSubjects', face_subject_arr)\n",
    "        face_subject_arr = []\n",
    "face_db_sql.BulkInsertRecords('FaceSubjects', face_subject_arr)\n",
    "face_db_sql.BulkInsertRecords('Subjects', subject_arr)\n",
    "# Completesのfalag_subjectを更新\n",
    "face_db_sql.UpdateRecords('Completes',{'movie_id':movie_id},{'flag_subject':1})\n"
   ]
  },
  {
   "cell_type": "code",
   "execution_count": 11,
   "metadata": {},
   "outputs": [],
   "source": [
    "for i in range(25,80):\n",
    "    face_db_sql = sql_func.FaceDB(f\"{config['face_db_path']}/FaceDB{i}.db\")\n",
    "    face_db_sql.cursor.execute('DROP TABLE FaceSubjects;')\n",
    "    face_db_sql.cursor.execute('DROP TABLE Subjects;')"
   ]
  },
  {
   "cell_type": "code",
   "execution_count": 12,
   "metadata": {},
   "outputs": [],
   "source": [
    "face_db_sql = sql_func.FaceDB(f\"{config['face_db_path']}/FaceDB{25}.db\")"
   ]
  },
  {
   "cell_type": "code",
   "execution_count": 14,
   "metadata": {},
   "outputs": [],
   "source": [
    "face_db_sql.UpdateRecords('Completes',{'movie_id':25},{'flag_subject':9})"
   ]
  },
  {
   "cell_type": "code",
   "execution_count": null,
   "metadata": {},
   "outputs": [],
   "source": []
  }
 ],
 "metadata": {
  "kernelspec": {
   "display_name": ".venv",
   "language": "python",
   "name": "python3"
  },
  "language_info": {
   "codemirror_mode": {
    "name": "ipython",
    "version": 3
   },
   "file_extension": ".py",
   "mimetype": "text/x-python",
   "name": "python",
   "nbconvert_exporter": "python",
   "pygments_lexer": "ipython3",
   "version": "3.10.4"
  },
  "orig_nbformat": 4,
  "vscode": {
   "interpreter": {
    "hash": "512f8919e5939af0d617f356998a22c8b4cdd4671e3a10108d40a9d5555b3e50"
   }
  }
 },
 "nbformat": 4,
 "nbformat_minor": 2
}
