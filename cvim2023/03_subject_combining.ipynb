{
 "cells": [
  {
   "cell_type": "code",
   "execution_count": 1,
   "metadata": {},
   "outputs": [],
   "source": [
    "from common_module import movie_func, my_func\n",
    "import numpy as np\n",
    "import cv2\n",
    "import os, glob, sys, yaml\n",
    "from tqdm import tqdm\n",
    "import time\n",
    "\n",
    "from face_recognition_module import sql_func\n",
    "\n",
    "from operator import itemgetter\n",
    "from tabulate import tabulate"
   ]
  },
  {
   "cell_type": "code",
   "execution_count": 8,
   "metadata": {},
   "outputs": [
    {
     "name": "stdout",
     "output_type": "stream",
     "text": [
      "enviroment: development\n",
      "  id  name         path                          fps    frame    Fmain    Fsubject    Fbond    Fsplit  created_at           updated_at\n",
      "----  -----------  ------------------------  -------  -------  -------  ----------  -------  --------  -------------------  -------------------\n",
      "   1  wM73pe49JVg  db/movie\\wM73pe49JVg.mp4  29.997    157309        1           1        1         1  2022-10-13 11:50:58  2023-01-18 11:46:42\n",
      "   2  0wF6uUVT0ok  db/movie\\0wF6uUVT0ok.mp4  29.9976   108324        1           1        1         1  2022-10-13 11:50:58  2022-10-13 11:50:58\n",
      "   3  61FkT-f9cgU  db/movie\\61FkT-f9cgU.mp4  30        108136        1           1        1         1  2022-10-13 11:50:58  2022-10-13 11:50:58\n",
      "   4  -CBqH_bjms4  db/movie\\-CBqH_bjms4.mp4  29.9962   189157        1           1        1         9  2022-10-24 19:40:43  2022-10-24 19:40:43\n",
      "   5  -WRT0ZhBwGk  db/movie\\-WRT0ZhBwGk.mp4  30.0048   206075        1           1        1         1  2022-10-24 19:40:43  2022-10-24 19:40:43\n",
      "   6  1AVBSYT3PCc  db/movie\\1AVBSYT3PCc.mp4  30       1006790        1           1        1         9  2022-10-24 19:40:43  2022-10-24 19:40:43\n",
      "   7  2ZrKkInBDro  db/movie\\2ZrKkInBDro.mp4  25        236669        1           1        1         9  2022-10-24 19:40:43  2022-10-24 19:40:43\n",
      "   8  53yPfrqbpkE  db/movie\\53yPfrqbpkE.mp4  30        187144        1           1        1         9  2022-10-24 19:40:43  2022-10-24 19:40:43\n",
      "   9  5E9SfLc0SkM  db/movie\\5E9SfLc0SkM.mp4  25         51260        1           1        1         1  2022-10-24 19:40:43  2022-10-24 19:40:43\n",
      "  10  627OBH2cUgM  db/movie\\627OBH2cUgM.mp4  29.995    129003        1           1        1         1  2022-10-24 19:40:43  2022-10-24 19:40:43\n",
      "  11  6fgVfqrRGpQ  db/movie\\6fgVfqrRGpQ.mp4  29.9907   174390        1           1        1         9  2022-10-24 19:40:43  2022-10-24 19:40:43\n",
      "  12  6M_Q56dIJ1s  db/movie\\6M_Q56dIJ1s.mp4  29.9914   152626        1           1        1         9  2022-10-24 19:40:44  2022-10-24 19:40:44\n",
      "  13  7eio0rPXuRs  db/movie\\7eio0rPXuRs.mp4  30        142740        1           1        1         9  2022-10-24 19:40:44  2022-10-24 19:40:44\n",
      "  14  7JwrlOWYIWQ  db/movie\\7JwrlOWYIWQ.mp4  30.0048   203353        1           1        1         9  2022-10-24 19:40:44  2022-10-24 19:40:44\n",
      "  15  7RnAMjrjdWs  db/movie\\7RnAMjrjdWs.mp4  25         66093        1           1        1         1  2022-10-24 19:40:44  2022-10-24 19:40:44\n",
      "  16  9uwBlkHwmMY  db/movie\\9uwBlkHwmMY.mp4  30         94451        1           1        1         1  2022-10-24 19:40:44  2022-10-24 19:40:44\n",
      "  17  aBWfEqaewVQ  db/movie\\aBWfEqaewVQ.mp4  29.9996    25566        1           1        1         9  2022-10-24 19:40:44  2022-10-24 19:40:44\n",
      "  18  AtgLjlCiVVY  db/movie\\AtgLjlCiVVY.mp4  30        156672        1           1        1         9  2022-10-24 19:40:44  2022-10-24 19:40:44\n",
      "  19  bPUdUPTPen4  db/movie\\bPUdUPTPen4.mp4  30        177589        1           1        1         1  2022-10-24 19:40:44  2022-10-24 19:40:44\n",
      "  20  bXbim5JALeY  db/movie\\bXbim5JALeY.mp4  30        102120        1           1        1         1  2022-10-24 19:40:44  2022-10-24 19:40:44\n",
      "  21  CQ4rV3fZIVQ  db/movie\\CQ4rV3fZIVQ.mp4  30        202195        1           1        1         9  2022-10-24 19:40:44  2022-10-24 19:40:44\n",
      "  22  FPfw-hY6SXQ  db/movie\\FPfw-hY6SXQ.mp4  30         11046        1           1        1         9  2022-10-24 19:40:44  2022-10-24 19:40:44\n",
      "  23  GwBM23UbGMY  db/movie\\GwBM23UbGMY.mp4  30         81002        1           1        1         1  2022-10-24 19:40:44  2022-10-24 19:40:44\n",
      "  24  JOzCTcW5zSc  db/movie\\JOzCTcW5zSc.mp4  30        122350        1           1        1         9  2022-10-24 19:40:44  2022-10-24 19:40:44\n",
      "  25  jzZftQTBA54  db/movie\\jzZftQTBA54.mp4  29.9959   164553        1           1        1         9  2022-10-24 19:40:44  2023-01-03 01:29:04\n",
      "  26  N-VOtkQXaeM  db/movie\\N-VOtkQXaeM.mp4  30         98183        1           1        1         9  2022-10-24 19:40:44  2023-01-03 01:34:09\n",
      "  27  NxJl3meFXsQ  db/movie\\NxJl3meFXsQ.mp4  29.9976   215908        1           1        1         9  2022-10-24 19:40:44  2023-01-03 01:51:03\n",
      "  28  OaTd0XWJkEs  db/movie\\OaTd0XWJkEs.mp4  29.9977   187672        3           9        9         9  2022-10-24 19:40:44  2022-10-24 19:40:44\n",
      "  29  OsBEW_dpPdk  db/movie\\OsBEW_dpPdk.mp4  30        112501        1           1        1         9  2022-10-24 19:40:44  2023-01-03 01:51:42\n",
      "  30  pcsbtQcYKBI  db/movie\\pcsbtQcYKBI.mp4  30        248548        1           1        4         9  2022-10-24 19:40:44  2023-01-05 11:56:35\n",
      "  31  PDo5wG7gJSs  db/movie\\PDo5wG7gJSs.mp4  30.0095   163895        3           9        9         9  2022-10-24 19:40:44  2022-10-24 19:40:44\n",
      "  32  QSi-7fF79u8  db/movie\\QSi-7fF79u8.mp4  30.0094   215222        3           9        9         9  2022-10-24 19:40:44  2022-10-24 19:40:44\n",
      "  33  RbvlZ4odeX8  db/movie\\RbvlZ4odeX8.mp4  29.9989   172588        1           1        1         9  2022-10-24 19:40:44  2023-01-05 13:40:23\n",
      "  34  rDZ4UyVW4Mk  db/movie\\rDZ4UyVW4Mk.mp4  30        115200        9           9        9         9  2022-10-24 19:40:44  2023-01-02 21:27:38\n",
      "  35  SknpPD0HteU  db/movie\\SknpPD0HteU.mp4  29.9999   135311        9           9        9         9  2022-10-24 19:40:44  2023-01-02 21:27:42\n",
      "  36  srgyDFhNeQQ  db/movie\\srgyDFhNeQQ.mp4  30        188399        9           9        9         9  2022-10-24 19:40:45  2023-01-02 21:27:45\n",
      "  37  t9zCBPmX8Ew  db/movie\\t9zCBPmX8Ew.mp4  30        144760        9           9        9         9  2022-10-24 19:40:45  2022-10-24 19:40:45\n",
      "  38  UCh_oziaMAQ  db/movie\\UCh_oziaMAQ.mp4  30        161820        9           9        9         9  2022-10-24 19:40:45  2022-10-24 19:40:45\n",
      "  39  ugldzxJPmEo  db/movie\\ugldzxJPmEo.mp4  30         69009        9           9        9         9  2022-10-24 19:40:45  2022-10-24 19:40:45\n",
      "  40  usU_sgt83sQ  db/movie\\usU_sgt83sQ.mp4  30        174750        9           9        9         9  2022-10-24 19:40:45  2022-10-24 19:40:45\n",
      "  41  wQ1rP-iKGV4  db/movie\\wQ1rP-iKGV4.mp4  29.9968   176232        3           9        9         9  2022-10-24 19:40:45  2022-10-24 19:40:45\n",
      "  42  XfH2U57UUqM  db/movie\\XfH2U57UUqM.mp4  30.013    172034        3           9        9         9  2022-10-24 19:40:45  2022-10-24 19:40:45\n",
      "  43  Xl8dRdouzbk  db/movie\\Xl8dRdouzbk.mp4  30         33898        9           9        9         9  2022-10-24 19:40:45  2022-10-24 19:40:45\n",
      "  44  YF7b03Egg-Y  db/movie\\YF7b03Egg-Y.mp4  30.0042   229142        9           9        9         9  2022-10-24 19:40:45  2022-10-24 19:40:45\n",
      "  45  YfYBCnc86Ak  db/movie\\YfYBCnc86Ak.mp4  30        480390        3           9        9         9  2022-10-24 19:40:45  2022-10-24 19:40:45\n",
      "  46  YLq6NBMJPxc  db/movie\\YLq6NBMJPxc.mp4  30         92425        9           9        9         9  2022-10-24 19:40:45  2022-10-24 19:40:45\n",
      "  47  z2FMgxGvVCA  db/movie\\z2FMgxGvVCA.mp4  29.9974   168475        3           9        9         9  2022-10-24 19:40:45  2022-10-24 19:40:45\n",
      "  48  ZylS9-eZnu4  db/movie\\ZylS9-eZnu4.mp4  30.0058   195360        3           9        9         9  2022-10-24 19:40:45  2022-10-24 19:40:45\n",
      "  49  _xlXRxsE8_0  db/movie\\_xlXRxsE8_0.mp4  29.9948   190858        9           9        9         9  2022-10-24 19:40:46  2022-10-24 19:40:46\n",
      "  50  1jZFjy2L7m8  db/movie\\1jZFjy2L7m8.mp4  25        103749        9           9        9         9  2022-11-06 08:58:06  2022-11-06 08:58:06\n",
      "  51  5DSN14BZTSA  db/movie\\5DSN14BZTSA.mp4  25         43032        9           9        9         9  2022-11-06 08:58:06  2022-11-06 08:58:06\n",
      "  52  60jEQcJUgpI  db/movie\\60jEQcJUgpI.mp4  30        243983        9           9        9         9  2022-11-06 08:58:06  2022-11-06 08:58:06\n",
      "  53  BOyLRzbd4ak  db/movie\\BOyLRzbd4ak.mp4  30.0061   293884        3           9        9         9  2022-11-06 08:58:06  2022-11-06 08:58:06\n",
      "  54  Cp9LCoEn04U  db/movie\\Cp9LCoEn04U.mp4  30        214776        9           9        9         9  2022-11-06 08:58:06  2022-11-06 08:58:06\n",
      "  55  DkRTafL7TAI  db/movie\\DkRTafL7TAI.mp4  25         77879        3           9        9         9  2022-11-06 08:58:06  2022-11-06 08:58:06\n",
      "  57  FVqLLEsRpiQ  db/movie\\FVqLLEsRpiQ.mp4  30        100312        9           9        9         9  2022-11-06 08:58:06  2022-11-06 08:58:06\n",
      "  58  GmQHCnRSHb8  db/movie\\GmQHCnRSHb8.mp4  30        159330        9           9        9         9  2022-11-06 08:58:06  2022-11-06 08:58:06\n",
      "  60  JLgGWBvH_Sk  db/movie\\JLgGWBvH_Sk.mp4  25        107675        9           9        9         9  2022-11-06 08:58:06  2022-11-06 08:58:06\n",
      "  61  K6MBccDuM9c  db/movie\\K6MBccDuM9c.mp4  30         62038        9           9        9         9  2022-11-06 08:58:06  2022-11-06 08:58:06\n",
      "  63  KB7Vjvo4-UY  db/movie\\KB7Vjvo4-UY.mp4  30.0071   199203        3           9        9         9  2022-11-06 08:58:06  2022-11-06 08:58:06\n",
      "  64  Kh7JZpXATVw  db/movie\\Kh7JZpXATVw.mp4  30        283050        9           9        9         9  2022-11-06 08:58:06  2022-11-06 08:58:06\n",
      "  70  ONvKyeTCBEY  db/movie\\ONvKyeTCBEY.mp4  30.0053   148752        9           9        9         9  2022-11-06 08:58:06  2022-11-06 08:58:06\n",
      "  67  Of39LKmX6iM  db/movie\\Of39LKmX6iM.mp4  29.9822    22269        9           9        9         9  2022-11-06 08:58:06  2022-11-06 08:58:06\n",
      "  72  POk3F3lGHCQ  db/movie\\POk3F3lGHCQ.mp4  29.993    229464        3           9        9         9  2022-11-06 08:58:06  2022-11-06 08:58:06\n",
      "  73  QNzko2V6tVE  db/movie\\QNzko2V6tVE.mp4  30        106658        9           9        9         9  2022-11-06 08:58:06  2022-11-06 08:58:06\n",
      "  74  SX0VPOceLLY  db/movie\\SX0VPOceLLY.mp4  25         86131        9           9        9         9  2022-11-06 08:58:06  2022-11-06 08:58:06\n",
      "  76  Tnkx287RGkg  db/movie\\Tnkx287RGkg.mp4  30.0071   224345        3           9        9         9  2022-11-06 08:58:06  2022-11-06 08:58:06\n",
      "  78  Xl4NxqmuyiU  db/movie\\Xl4NxqmuyiU.mp4  29.9958    81522        9           9        9         9  2022-11-06 08:58:06  2022-11-06 08:58:06\n",
      "  56  eeg3_W_Ui30  db/movie\\eeg3_W_Ui30.mp4  29.9952    51449        9           9        9         9  2022-11-06 08:58:06  2022-11-06 08:58:06\n",
      "  59  iYG_jXS9XaU  db/movie\\iYG_jXS9XaU.mp4  30.0051   260017        3           9        9         9  2022-11-06 08:58:06  2022-11-06 08:58:06\n",
      "  62  k8K6wQLxooU  db/movie\\k8K6wQLxooU.mp4  25         64072        9           9        9         9  2022-11-06 08:58:06  2022-11-06 08:58:06\n",
      "  65  ll_2akftrZE  db/movie\\ll_2akftrZE.mp4  30        184382        9           9        9         9  2022-11-06 08:58:06  2022-11-06 08:58:06\n",
      "  66  mgWgMnNcjXw  db/movie\\mgWgMnNcjXw.mp4  30         54457        9           9        9         9  2022-11-06 08:58:07  2022-11-06 08:58:07\n",
      "  69  oMcqz_O_dPU  db/movie\\oMcqz_O_dPU.mp4  23.976    143101        9           9        9         9  2022-11-06 08:58:07  2022-11-06 08:58:07\n",
      "  68  oioA28CUTzs  db/movie\\oioA28CUTzs.mp4  30        101190        9           9        9         9  2022-11-06 08:58:07  2022-11-06 08:58:07\n",
      "  71  po6VGyp5oBE  db/movie\\po6VGyp5oBE.mp4  29.9994    40023        9           9        9         9  2022-11-06 08:58:07  2022-11-06 08:58:07\n",
      "  75  sYCOqxkO598  db/movie\\sYCOqxkO598.mp4  30.0068   244896        3           9        9         9  2022-11-06 08:58:07  2022-11-06 08:58:07\n",
      "  77  vcS9aVaMfl4  db/movie\\vcS9aVaMfl4.mp4  30        158484        9           9        9         9  2022-11-06 08:58:07  2022-11-06 08:58:07\n",
      "  79  ygkg5-7kaxY  db/movie\\ygkg5-7kaxY.mp4  30.0085   293236        9           9        9         9  2022-11-06 08:58:07  2022-11-06 08:58:07\n"
     ]
    }
   ],
   "source": [
    "# ========================\n",
    "# 設定ファイルの読み込み\n",
    "# ========================\n",
    "\n",
    "# 環境の確認\n",
    "with open('../enviroment.yaml', 'r') as yml:\n",
    "    enviroment = yaml.safe_load(yml)['enviroment']\n",
    "print('enviroment:', enviroment)\n",
    "\n",
    "# 設定ファイルの読み込み\n",
    "with open('config.yaml', 'r') as yml:\n",
    "    config = yaml.safe_load(yml)[enviroment]\n",
    "# print(config)\n",
    "\n",
    "# =========================================\n",
    "# MovieManageDBのMoviesとCompletesの状態確認\n",
    "# =========================================\n",
    "\n",
    "# MovieMangeを参照するsql\n",
    "movie_manage_sql = sql_func.FaceDB(config['movie_manage_path'])\n",
    "\n",
    "# MovieManageのMoviesとCompletesの状態確認\n",
    "records = movie_manage_sql.cursor.execute('SELECT m.id, m.name, m.path, m.fps, m.frame, c.flag_main, c.flag_subject, c.flag_bond, c.flag_split, c.created_at, c.updated_at FROM Movies m INNER JOIN Completes c ON m.id = c.movie_id').fetchall()\n",
    "print(tabulate(records, headers=['id','name','path','fps','frame','Fmain','Fsubject','Fbond','Fsplit','created_at','updated_at']))\n",
    "del records"
   ]
  },
  {
   "cell_type": "code",
   "execution_count": 3,
   "metadata": {},
   "outputs": [],
   "source": [
    "# =========================================================\n",
    "# 人物のグループ化処理（連続して顔認識が行われている人物の結合）\n",
    "# =========================================================\n",
    "\n",
    "# MovieMangeを参照するsql\n",
    "movie_manage_sql = sql_func.FaceDB(config['movie_manage_path']) \n",
    "\n",
    "# MoviesとCompletesをinner joinして取得\n",
    "sql_str = 'SELECT m.id, m.name, m.path, m.fps, m.frame, c.flag_main, c.flag_subject, c.flag_bond, c.flag_split FROM Movies m INNER JOIN Completes c ON m.id = c.movie_id'\n",
    "movie_complete_records =  movie_manage_sql.cursor.execute(sql_str).fetchall() \n",
    "movie_complete_records = [{'id':r[0], 'name':r[1], 'path':r[2], 'fps':r[3], 'frame':r[4], 'flag_main':r[5], 'flag_subject':r[6], 'flag_bond':r[7], 'flag_split':r[8]} for r in movie_complete_records]\n"
   ]
  },
  {
   "cell_type": "code",
   "execution_count": 4,
   "metadata": {},
   "outputs": [
    {
     "data": {
      "text/plain": [
       "140000"
      ]
     },
     "execution_count": 4,
     "metadata": {},
     "output_type": "execute_result"
    }
   ],
   "source": [
    "face_db_sql = sql_func.FaceDB(f\"{config['face_db_path']}/FaceDB{25}.db\")\n",
    "len(face_db_sql.GetRecords('FaceSubjects',['id']))"
   ]
  },
  {
   "cell_type": "code",
   "execution_count": 5,
   "metadata": {},
   "outputs": [
    {
     "ename": "KeyboardInterrupt",
     "evalue": "",
     "output_type": "error",
     "traceback": [
      "\u001b[1;31m---------------------------------------------------------------------------\u001b[0m",
      "\u001b[1;31mKeyboardInterrupt\u001b[0m                         Traceback (most recent call last)",
      "Cell \u001b[1;32mIn [5], line 1\u001b[0m\n\u001b[1;32m----> 1\u001b[0m \u001b[39mlen\u001b[39m(face_db_sql\u001b[39m.\u001b[39;49mGetRecords(\u001b[39m'\u001b[39;49m\u001b[39mFaces\u001b[39;49m\u001b[39m'\u001b[39;49m,[\u001b[39m'\u001b[39;49m\u001b[39mid\u001b[39;49m\u001b[39m'\u001b[39;49m]))\n",
      "File \u001b[1;32mc:\\Users\\yunos\\workspace\\python\\FaceRecognition\\face_recognition_module\\sql_func.py:356\u001b[0m, in \u001b[0;36mFaceDB.GetRecords\u001b[1;34m(self, table, col, terms, option)\u001b[0m\n\u001b[0;32m    354\u001b[0m col_str \u001b[39m=\u001b[39m \u001b[39mself\u001b[39m\u001b[39m.\u001b[39mGenerateColumnStr(col)\n\u001b[0;32m    355\u001b[0m SQL \u001b[39m=\u001b[39m \u001b[39mf\u001b[39m\u001b[39m\"\u001b[39m\u001b[39mSELECT \u001b[39m\u001b[39m{\u001b[39;00mcol_str\u001b[39m}\u001b[39;00m\u001b[39m FROM \u001b[39m\u001b[39m{\u001b[39;00mtable\u001b[39m}\u001b[39;00m\u001b[39m \u001b[39m\u001b[39m{\u001b[39;00mterms_SQL\u001b[39m}\u001b[39;00m\u001b[39m \u001b[39m\u001b[39m{\u001b[39;00moption[\u001b[39m'\u001b[39m\u001b[39msql_str\u001b[39m\u001b[39m'\u001b[39m]\u001b[39m}\u001b[39;00m\u001b[39m\"\u001b[39m\n\u001b[1;32m--> 356\u001b[0m records \u001b[39m=\u001b[39m \u001b[39mself\u001b[39;49m\u001b[39m.\u001b[39;49mcursor\u001b[39m.\u001b[39;49mexecute(SQL)\u001b[39m.\u001b[39;49mfetchall()\n\u001b[0;32m    357\u001b[0m \u001b[39mreturn\u001b[39;00m \u001b[39mself\u001b[39m\u001b[39m.\u001b[39mGenerateRecordsInDict(col,records)\n",
      "\u001b[1;31mKeyboardInterrupt\u001b[0m: "
     ]
    }
   ],
   "source": [
    "len(face_db_sql.GetRecords('Faces',['id']))"
   ]
  },
  {
   "cell_type": "code",
   "execution_count": 6,
   "metadata": {},
   "outputs": [],
   "source": [
    "fsfrs = face_db_sql.cursor.execute('SELECT fs.face_id, fs.subject_id, f.frame FROM FaceSubjects fs INNER JOIN Faces f ON fs.face_id = f.id WHERE fs.subject_id = 1').fetchall()\n",
    "fsfrs = [{'face_id':r[0], 'subject_id':r[1], 'frame':r[2]} for r in fsfrs]"
   ]
  },
  {
   "cell_type": "code",
   "execution_count": 7,
   "metadata": {},
   "outputs": [],
   "source": [
    "# mm_sql = sql_func.FaceDB(config['movie_manage_path'])\n",
    "# mm_sql.UpdateRecords('Completes',{'movie_id':25},{'flag_subject':9})"
   ]
  },
  {
   "cell_type": "code",
   "execution_count": 7,
   "metadata": {},
   "outputs": [
    {
     "data": {
      "text/plain": [
       "19"
      ]
     },
     "execution_count": 7,
     "metadata": {},
     "output_type": "execute_result"
    }
   ],
   "source": [
    "len(fsfrs)"
   ]
  },
  {
   "cell_type": "code",
   "execution_count": 8,
   "metadata": {},
   "outputs": [
    {
     "name": "stdout",
     "output_type": "stream",
     "text": [
      "{'id': 25, 'name': 'jzZftQTBA54', 'path': 'db/movie\\\\jzZftQTBA54.mp4', 'fps': 29.99594588450669, 'frame': 164553, 'flag_main': 1, 'flag_subject': 1, 'flag_bond': 9, 'flag_split': 9}\n"
     ]
    }
   ],
   "source": [
    "for mcr in movie_complete_records:\n",
    "\n",
    "    if (mcr['flag_subject']==1)&(mcr['flag_bond']==9):\n",
    "        print(mcr)\n",
    "        # movie_idを取得\n",
    "        movie_id = mcr['id']\n",
    "\n",
    "        # FaceDBを参照するsql\n",
    "        face_db_sql = sql_func.FaceDB(f\"{config['face_db_path']}/FaceDB{movie_id}.db\")\n",
    "\n",
    "        fsfrs = face_db_sql.cursor.execute(f'SELECT fs.face_id, fs.subject_id, f.frame, f.embedding FROM FaceSubjects fs INNER JOIN Faces f ON fs.face_id = f.id').fetchall()\n",
    "        fsfrs = [{'face_id':r[0], 'subject_id':r[1], 'frame':r[2], 'embedding':r[3]} for r in fsfrs]\n",
    "\n"
   ]
  },
  {
   "cell_type": "code",
   "execution_count": 9,
   "metadata": {},
   "outputs": [
    {
     "name": "stdout",
     "output_type": "stream",
     "text": [
      "140000\n"
     ]
    }
   ],
   "source": [
    "print(len(fsfrs))\n"
   ]
  },
  {
   "cell_type": "code",
   "execution_count": 27,
   "metadata": {},
   "outputs": [
    {
     "name": "stderr",
     "output_type": "stream",
     "text": [
      "  1%|          | 26/4971 [00:38<2:01:03,  1.47s/it]\n"
     ]
    },
    {
     "ename": "KeyboardInterrupt",
     "evalue": "",
     "output_type": "error",
     "traceback": [
      "\u001b[1;31m---------------------------------------------------------------------------\u001b[0m",
      "\u001b[1;31mKeyboardInterrupt\u001b[0m                         Traceback (most recent call last)",
      "Cell \u001b[1;32mIn [27], line 53\u001b[0m\n\u001b[0;32m     50\u001b[0m     \u001b[39mbreak\u001b[39;00m\n\u001b[0;32m     52\u001b[0m \u001b[39m# 比較するSubjectsの特徴量一覧を取得\u001b[39;00m\n\u001b[1;32m---> 53\u001b[0m embedding_matchs \u001b[39m=\u001b[39m [r[\u001b[39m'\u001b[39m\u001b[39membedding\u001b[39m\u001b[39m'\u001b[39m] \u001b[39mfor\u001b[39;00m r \u001b[39min\u001b[39;00m fsfrs \u001b[39mif\u001b[39;00m r[\u001b[39m'\u001b[39m\u001b[39msubject_id\u001b[39m\u001b[39m'\u001b[39m] \u001b[39m==\u001b[39m subject_id_match]\n\u001b[0;32m     55\u001b[0m \u001b[39m# レコードがsampling_record_count以上の場合、ランダムで抽出\u001b[39;00m\n\u001b[0;32m     56\u001b[0m embedding_matchs \u001b[39m=\u001b[39m embedding_matchs \u001b[39mif\u001b[39;00m \u001b[39mlen\u001b[39m(embedding_matchs) \u001b[39m<\u001b[39m\u001b[39m=\u001b[39m sampling_record_count \u001b[39melse\u001b[39;00m random\u001b[39m.\u001b[39msample(embedding_matchs, sampling_record_count)\n",
      "Cell \u001b[1;32mIn [27], line 53\u001b[0m, in \u001b[0;36m<listcomp>\u001b[1;34m(.0)\u001b[0m\n\u001b[0;32m     50\u001b[0m     \u001b[39mbreak\u001b[39;00m\n\u001b[0;32m     52\u001b[0m \u001b[39m# 比較するSubjectsの特徴量一覧を取得\u001b[39;00m\n\u001b[1;32m---> 53\u001b[0m embedding_matchs \u001b[39m=\u001b[39m [r[\u001b[39m'\u001b[39m\u001b[39membedding\u001b[39m\u001b[39m'\u001b[39m] \u001b[39mfor\u001b[39;00m r \u001b[39min\u001b[39;00m fsfrs \u001b[39mif\u001b[39;00m r[\u001b[39m'\u001b[39;49m\u001b[39msubject_id\u001b[39;49m\u001b[39m'\u001b[39;49m] \u001b[39m==\u001b[39;49m subject_id_match]\n\u001b[0;32m     55\u001b[0m \u001b[39m# レコードがsampling_record_count以上の場合、ランダムで抽出\u001b[39;00m\n\u001b[0;32m     56\u001b[0m embedding_matchs \u001b[39m=\u001b[39m embedding_matchs \u001b[39mif\u001b[39;00m \u001b[39mlen\u001b[39m(embedding_matchs) \u001b[39m<\u001b[39m\u001b[39m=\u001b[39m sampling_record_count \u001b[39melse\u001b[39;00m random\u001b[39m.\u001b[39msample(embedding_matchs, sampling_record_count)\n",
      "\u001b[1;31mKeyboardInterrupt\u001b[0m: "
     ]
    }
   ],
   "source": [
    "import random\n",
    "\n",
    "sampling_record_count = 50\n",
    "subject_similarity_threshould = 0.85\n",
    "frame_difference_threshould = 30*60*3 # frame * seconds * minutes\n",
    "loop_break_count_threshould = 100\n",
    "match_subject_ids = []\n",
    "subjects_groups = []\n",
    "\n",
    "# Subjectsレコードを取得\n",
    "subject_ids = list(set([r['subject_id'] for r in fsfrs]))\n",
    "\n",
    "for idx, subject_id_target in enumerate(tqdm(subject_ids[0:])):\n",
    "    # Subjectsの特徴量をすべて取得\n",
    "    embedding_targets = [r['embedding'] for r in fsfrs if r['subject_id'] == subject_id_target]\n",
    "\n",
    "    # frameをすべて取得\n",
    "    target_frames = [r['frame'] for r in fsfrs if r['subject_id'] == subject_id_target]\n",
    "    \n",
    "    # 先頭フレーム番号を取得\n",
    "    frame_head_target = target_frames[0]\n",
    "    \n",
    "    # 末尾フレーム番号を取得\n",
    "    frame_tail_target = target_frames[-1]\n",
    "\n",
    "    # ループ回数カウント\n",
    "    loop_counter = 0\n",
    "    # targets以降のSubjectsと特徴量をループで比較\n",
    "    for subject_id_match in subject_ids[idx+1:]:\n",
    "        # すでにマッチングしているsubject_idをパス\n",
    "        if subject_id_match in match_subject_ids:\n",
    "            continue\n",
    "\n",
    "        # 比較Subjectsのframe取得\n",
    "        match_frames = [r['frame'] for r in fsfrs if r['subject_id'] == subject_id_match]\n",
    "        \n",
    "        # 先頭フレーム番号を取得\n",
    "        frame_head_match = match_frames[0]\n",
    "\n",
    "        # 末尾フレーム番号を取得\n",
    "        frame_tail_match = match_frames[-1]\n",
    "\n",
    "        if frame_head_match < frame_tail_target:\n",
    "            continue\n",
    "\n",
    "        # マッチするものが存在しない\n",
    "        loop_counter += 1\n",
    "        if (loop_counter == loop_break_count_threshould)or(frame_head_match - frame_tail_target > frame_difference_threshould):\n",
    "            subjects_groups.append({'subject_id_0':subject_id_target,'similarity':0., 'frame_difference':0})\n",
    "            break\n",
    "\n",
    "        # 比較するSubjectsの特徴量一覧を取得\n",
    "        embedding_matchs = [r['embedding'] for r in fsfrs if r['subject_id'] == subject_id_match]\n",
    "\n",
    "        # レコードがsampling_record_count以上の場合、ランダムで抽出\n",
    "        embedding_matchs = embedding_matchs if len(embedding_matchs) <= sampling_record_count else random.sample(embedding_matchs, sampling_record_count)\n",
    "\n",
    "        # 特徴量を比較した類似度一覧を取得\n",
    "        embedding_sims = np.array([[my_func.ComputeSim(et, em) for et in embedding_targets] for em in embedding_matchs])\n",
    "\n",
    "        # 類似度を取得\n",
    "        similarity = np.max(embedding_sims)\n",
    "\n",
    "        # 類似度がsubject_similarity_threshouldを超える場合一致\n",
    "        if similarity > subject_similarity_threshould:\n",
    "            # マッチしたsubjectsのグループ化\n",
    "            subjects_groups.append({'subject_id_0':subject_id_target,'subject_id_1':subject_id_match,'similarity':similarity, 'frame_difference':frame_head_match - frame_tail_target})\n",
    "\n",
    "            # マッチ済みidを保存\n",
    "            match_subject_ids.append(subject_id_match)\n",
    "            break\n",
    "\n",
    "# dbに反映\n",
    "for sg in subjects_groups:\n",
    "    face_db_sql.UpdateRecords('Bonds', {'subject_id_0':sg['subject_id_0']}, sg)\n"
   ]
  },
  {
   "cell_type": "code",
   "execution_count": 30,
   "metadata": {},
   "outputs": [],
   "source": [
    "# FaceDBのCompletesを更新\n",
    "face_db_sql.UpdateRecords('Completes',{'movie_id':movie_id}, {'flag_bond':1})\n",
    "face_db_cr = face_db_sql.GetRecords('Completes',['*'],{'movie_id':movie_id})[0]\n",
    "\n",
    "# MovieManageDBのCompletesを更新\n",
    "movie_manage_sql.UpdateRecords('Completes',{'movie_id':movie_id},face_db_cr)"
   ]
  },
  {
   "cell_type": "code",
   "execution_count": 25,
   "metadata": {},
   "outputs": [
    {
     "data": {
      "text/plain": [
       "[2801,\n",
       " 2811,\n",
       " 2821,\n",
       " 2831,\n",
       " 2841,\n",
       " 2851,\n",
       " 2861,\n",
       " 2871,\n",
       " 2881,\n",
       " 2891,\n",
       " 2901,\n",
       " 2911,\n",
       " 2921,\n",
       " 2931,\n",
       " 2941,\n",
       " 2951,\n",
       " 2961,\n",
       " 2971,\n",
       " 2981,\n",
       " 2991,\n",
       " 3001,\n",
       " 3011,\n",
       " 3021,\n",
       " 3031,\n",
       " 3041,\n",
       " 3051,\n",
       " 3061,\n",
       " 3071,\n",
       " 3081,\n",
       " 3091,\n",
       " 3101,\n",
       " 3111,\n",
       " 3121,\n",
       " 3131,\n",
       " 3141,\n",
       " 3151,\n",
       " 3161,\n",
       " 3171,\n",
       " 3181,\n",
       " 3191,\n",
       " 3201,\n",
       " 3211,\n",
       " 3221,\n",
       " 3231,\n",
       " 3241,\n",
       " 3251,\n",
       " 3261,\n",
       " 3271,\n",
       " 3281,\n",
       " 3291,\n",
       " 3301,\n",
       " 3311,\n",
       " 3321,\n",
       " 3331,\n",
       " 3341,\n",
       " 3351,\n",
       " 3361,\n",
       " 3371,\n",
       " 3381,\n",
       " 3391,\n",
       " 3401,\n",
       " 3411,\n",
       " 3421,\n",
       " 3431,\n",
       " 3441,\n",
       " 3451,\n",
       " 3461,\n",
       " 3471,\n",
       " 3481,\n",
       " 3491,\n",
       " 3501,\n",
       " 3511,\n",
       " 3521,\n",
       " 3531,\n",
       " 3541,\n",
       " 3551]"
      ]
     },
     "execution_count": 25,
     "metadata": {},
     "output_type": "execute_result"
    }
   ],
   "source": [
    "[r['frame'] for r in fsfrs if r['subject_id'] == 35]"
   ]
  },
  {
   "cell_type": "code",
   "execution_count": 26,
   "metadata": {},
   "outputs": [
    {
     "data": {
      "text/plain": [
       "[2901,\n",
       " 2911,\n",
       " 2921,\n",
       " 2931,\n",
       " 2941,\n",
       " 2951,\n",
       " 2961,\n",
       " 2971,\n",
       " 2981,\n",
       " 2991,\n",
       " 3001,\n",
       " 3011,\n",
       " 3021,\n",
       " 3031,\n",
       " 3041,\n",
       " 3051,\n",
       " 3061,\n",
       " 3071,\n",
       " 3081,\n",
       " 3091,\n",
       " 3101,\n",
       " 3111,\n",
       " 3121,\n",
       " 3131,\n",
       " 3141,\n",
       " 3151,\n",
       " 3161,\n",
       " 3171,\n",
       " 3181,\n",
       " 3191,\n",
       " 3201,\n",
       " 3211,\n",
       " 3221,\n",
       " 3231,\n",
       " 3241,\n",
       " 3251,\n",
       " 3261,\n",
       " 3271,\n",
       " 3281,\n",
       " 3291,\n",
       " 3301,\n",
       " 3311,\n",
       " 3321,\n",
       " 3331,\n",
       " 3341,\n",
       " 3351,\n",
       " 3361,\n",
       " 3371,\n",
       " 3381,\n",
       " 3391,\n",
       " 3401,\n",
       " 3411,\n",
       " 3421,\n",
       " 3431,\n",
       " 3441,\n",
       " 3451,\n",
       " 3461,\n",
       " 3471,\n",
       " 3481,\n",
       " 3491,\n",
       " 3501,\n",
       " 3511,\n",
       " 3521,\n",
       " 3531,\n",
       " 3541,\n",
       " 3551,\n",
       " 3561,\n",
       " 3571,\n",
       " 3581,\n",
       " 3591,\n",
       " 3601,\n",
       " 3611,\n",
       " 3621,\n",
       " 3631,\n",
       " 3641,\n",
       " 3651,\n",
       " 3661,\n",
       " 3671,\n",
       " 3681,\n",
       " 3691,\n",
       " 3701,\n",
       " 3711,\n",
       " 3721,\n",
       " 3731,\n",
       " 3741,\n",
       " 3751,\n",
       " 3761,\n",
       " 3771,\n",
       " 3781,\n",
       " 3791,\n",
       " 3801,\n",
       " 3811,\n",
       " 3821]"
      ]
     },
     "execution_count": 26,
     "metadata": {},
     "output_type": "execute_result"
    }
   ],
   "source": [
    "[r['frame'] for r in fsfrs if r['subject_id'] == 40]"
   ]
  }
 ],
 "metadata": {
  "kernelspec": {
   "display_name": ".venv",
   "language": "python",
   "name": "python3"
  },
  "language_info": {
   "codemirror_mode": {
    "name": "ipython",
    "version": 3
   },
   "file_extension": ".py",
   "mimetype": "text/x-python",
   "name": "python",
   "nbconvert_exporter": "python",
   "pygments_lexer": "ipython3",
   "version": "3.10.4"
  },
  "orig_nbformat": 4,
  "vscode": {
   "interpreter": {
    "hash": "512f8919e5939af0d617f356998a22c8b4cdd4671e3a10108d40a9d5555b3e50"
   }
  }
 },
 "nbformat": 4,
 "nbformat_minor": 2
}
